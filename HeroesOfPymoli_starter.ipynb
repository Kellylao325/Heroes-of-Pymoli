{
 "cells": [
  {
   "cell_type": "markdown",
   "metadata": {},
   "source": [
    "### Heroes Of Pymoli Data Analysis\n",
    "* Of the 1163 active players, the vast majority are male (84%). There also exists, a smaller, but notable proportion of female players (14%).\n",
    "\n",
    "* Our peak age demographic falls between 20-24 (44.8%) with secondary groups falling between 15-19 (18.60%) and 25-29 (13.4%).  \n",
    "-----"
   ]
  },
  {
   "cell_type": "markdown",
   "metadata": {},
   "source": [
    "### Note\n",
    "* Instructions have been included for each segment. You do not have to follow them exactly, but they are included to help you think through the steps."
   ]
  },
  {
   "cell_type": "code",
   "execution_count": 6,
   "metadata": {},
   "outputs": [
    {
     "data": {
      "text/html": [
       "<div>\n",
       "<style scoped>\n",
       "    .dataframe tbody tr th:only-of-type {\n",
       "        vertical-align: middle;\n",
       "    }\n",
       "\n",
       "    .dataframe tbody tr th {\n",
       "        vertical-align: top;\n",
       "    }\n",
       "\n",
       "    .dataframe thead th {\n",
       "        text-align: right;\n",
       "    }\n",
       "</style>\n",
       "<table border=\"1\" class=\"dataframe\">\n",
       "  <thead>\n",
       "    <tr style=\"text-align: right;\">\n",
       "      <th></th>\n",
       "      <th>Purchase ID</th>\n",
       "      <th>SN</th>\n",
       "      <th>Age</th>\n",
       "      <th>Gender</th>\n",
       "      <th>Item ID</th>\n",
       "      <th>Item Name</th>\n",
       "      <th>Price</th>\n",
       "    </tr>\n",
       "  </thead>\n",
       "  <tbody>\n",
       "    <tr>\n",
       "      <th>0</th>\n",
       "      <td>0</td>\n",
       "      <td>Lisim78</td>\n",
       "      <td>20</td>\n",
       "      <td>Male</td>\n",
       "      <td>108</td>\n",
       "      <td>Extraction, Quickblade Of Trembling Hands</td>\n",
       "      <td>3.53</td>\n",
       "    </tr>\n",
       "    <tr>\n",
       "      <th>1</th>\n",
       "      <td>1</td>\n",
       "      <td>Lisovynya38</td>\n",
       "      <td>40</td>\n",
       "      <td>Male</td>\n",
       "      <td>143</td>\n",
       "      <td>Frenzied Scimitar</td>\n",
       "      <td>1.56</td>\n",
       "    </tr>\n",
       "    <tr>\n",
       "      <th>2</th>\n",
       "      <td>2</td>\n",
       "      <td>Ithergue48</td>\n",
       "      <td>24</td>\n",
       "      <td>Male</td>\n",
       "      <td>92</td>\n",
       "      <td>Final Critic</td>\n",
       "      <td>4.88</td>\n",
       "    </tr>\n",
       "    <tr>\n",
       "      <th>3</th>\n",
       "      <td>3</td>\n",
       "      <td>Chamassasya86</td>\n",
       "      <td>24</td>\n",
       "      <td>Male</td>\n",
       "      <td>100</td>\n",
       "      <td>Blindscythe</td>\n",
       "      <td>3.27</td>\n",
       "    </tr>\n",
       "    <tr>\n",
       "      <th>4</th>\n",
       "      <td>4</td>\n",
       "      <td>Iskosia90</td>\n",
       "      <td>23</td>\n",
       "      <td>Male</td>\n",
       "      <td>131</td>\n",
       "      <td>Fury</td>\n",
       "      <td>1.44</td>\n",
       "    </tr>\n",
       "  </tbody>\n",
       "</table>\n",
       "</div>"
      ],
      "text/plain": [
       "   Purchase ID             SN  Age Gender  Item ID  \\\n",
       "0            0        Lisim78   20   Male      108   \n",
       "1            1    Lisovynya38   40   Male      143   \n",
       "2            2     Ithergue48   24   Male       92   \n",
       "3            3  Chamassasya86   24   Male      100   \n",
       "4            4      Iskosia90   23   Male      131   \n",
       "\n",
       "                                   Item Name  Price  \n",
       "0  Extraction, Quickblade Of Trembling Hands   3.53  \n",
       "1                          Frenzied Scimitar   1.56  \n",
       "2                               Final Critic   4.88  \n",
       "3                                Blindscythe   3.27  \n",
       "4                                       Fury   1.44  "
      ]
     },
     "execution_count": 6,
     "metadata": {},
     "output_type": "execute_result"
    }
   ],
   "source": [
    "# Dependencies and Setup\n",
    "import pandas as pd\n",
    "import numpy as np\n",
    "\n",
    "# File to Load (Remember to Change These)\n",
    "file_to_load = \"Resources/purchase_data.csv\"\n",
    "\n",
    "# Read Purchasing File and store into Pandas data frame\n",
    "purchase_data = pd.read_csv(file_to_load)\n",
    "purchase_data.head()\n",
    "\n",
    "#purchase_data.columns"
   ]
  },
  {
   "cell_type": "markdown",
   "metadata": {},
   "source": [
    "## Player Count"
   ]
  },
  {
   "cell_type": "markdown",
   "metadata": {},
   "source": [
    "* Display the total number of players\n"
   ]
  },
  {
   "cell_type": "code",
   "execution_count": 7,
   "metadata": {},
   "outputs": [
    {
     "name": "stdout",
     "output_type": "stream",
     "text": [
      "   Player Count\n",
      "0           576\n"
     ]
    }
   ],
   "source": [
    "#total player = total unique SN (.nunique()Return number of unique elements in the object)\n",
    "total_player = purchase_data[\"SN\"].nunique()\n",
    "total_player_df = pd.DataFrame([{\"Player Count\": total_player}])\n",
    "print(total_player_df)"
   ]
  },
  {
   "cell_type": "markdown",
   "metadata": {},
   "source": [
    "## Purchasing Analysis (Total)"
   ]
  },
  {
   "cell_type": "markdown",
   "metadata": {},
   "source": [
    "* Run basic calculations to obtain number of unique items, average price, etc.\n",
    "\n",
    "\n",
    "* Create a summary data frame to hold the results\n",
    "\n",
    "\n",
    "* Optional: give the displayed data cleaner formatting\n",
    "\n",
    "\n",
    "* Display the summary data frame\n"
   ]
  },
  {
   "cell_type": "code",
   "execution_count": 8,
   "metadata": {
    "scrolled": true
   },
   "outputs": [
    {
     "name": "stdout",
     "output_type": "stream",
     "text": [
      "   Number of Unique Items  Average Price  Number of Purchases  Total Revenue\n",
      "0                     183           3.05                  780        2379.77\n"
     ]
    }
   ],
   "source": [
    "#Unique items (find the length of the ID list)\n",
    "unique_items = len(purchase_data[\"Item ID\"].unique())\n",
    "unique_items\n",
    "\n",
    "#average price (round to 2 digit and add $ when formatting)\n",
    "avg_price = avg_price = round((purchase_data[\"Price\"].mean()),2)\n",
    "avg_price \n",
    "\n",
    "#number of purchase\n",
    "number_purchases = len(purchase_data[\"Purchase ID\"])\n",
    "number_purchases\n",
    "\n",
    "#total revenue (need to format #)\n",
    "total_revenue = sum(purchase_data[\"Price\"])\n",
    "total_revenue\n",
    "\n",
    "summary_table = pd.DataFrame({ \"Number of Unique Items\" : [unique_items],\n",
    "                              \"Average Price\": [avg_price],\n",
    "                              \"Number of Purchases\" : [ number_purchases],\n",
    "                              \"Total Revenue\" : [total_revenue]\n",
    "    \n",
    "})\n",
    "\n",
    "print(summary_table)"
   ]
  },
  {
   "cell_type": "markdown",
   "metadata": {},
   "source": [
    "## Gender Demographics"
   ]
  },
  {
   "cell_type": "markdown",
   "metadata": {},
   "source": [
    "* Percentage and Count of Male Players\n",
    "\n",
    "\n",
    "* Percentage and Count of Female Players\n",
    "\n",
    "\n",
    "* Percentage and Count of Other / Non-Disclosed\n",
    "\n",
    "\n"
   ]
  },
  {
   "cell_type": "code",
   "execution_count": 9,
   "metadata": {},
   "outputs": [
    {
     "name": "stdout",
     "output_type": "stream",
     "text": [
      "                       Total Count  Percentage of Player\n",
      "Gender                                                  \n",
      "Male                           484                 84.03\n",
      "Female                          81                 14.06\n",
      "Other / Non-Disclosed           11                  1.91\n"
     ]
    }
   ],
   "source": [
    "gender_count = purchase_data.groupby('Gender')\n",
    "unique_gender_count = gender_count.nunique()['SN']\n",
    "# print (unique_gender_count)\n",
    "\n",
    "#percentage\n",
    "gender_percentage = round((unique_gender_count / total_player *100),2)\n",
    "gender_percentage\n",
    "\n",
    "#Gender Demographics table\n",
    "gender_demo_table = pd.DataFrame({\"Total Count\": unique_gender_count,\n",
    "                                  \"Percentage of Player\": gender_percentage\n",
    "                                 })\n",
    "gender_demo_table = gender_demo_table.sort_values(['Total Count'], ascending =False)\n",
    "print(gender_demo_table)"
   ]
  },
  {
   "cell_type": "markdown",
   "metadata": {},
   "source": [
    "\n",
    "## Purchasing Analysis (Gender)"
   ]
  },
  {
   "cell_type": "markdown",
   "metadata": {},
   "source": [
    "* Run basic calculations to obtain purchase count, avg. purchase price, avg. purchase total per person etc. by gender\n",
    "\n",
    "\n",
    "\n",
    "\n",
    "* Create a summary data frame to hold the results\n",
    "\n",
    "\n",
    "* Optional: give the displayed data cleaner formatting\n",
    "\n",
    "\n",
    "* Display the summary data frame"
   ]
  },
  {
   "cell_type": "code",
   "execution_count": 38,
   "metadata": {},
   "outputs": [
    {
     "name": "stdout",
     "output_type": "stream",
     "text": [
      "                       Purchase Count  Avg Purchase Price  \\\n",
      "Gender                                                      \n",
      "Female                            113                3.20   \n",
      "Male                              652                3.02   \n",
      "Other / Non-Disclosed              15                3.35   \n",
      "\n",
      "                       Total Purchase Value  Avg Total Purchase Per Person  \n",
      "Gender                                                                      \n",
      "Female                               361.94                           4.47  \n",
      "Male                                1967.64                           4.07  \n",
      "Other / Non-Disclosed                 50.19                           4.56  \n"
     ]
    }
   ],
   "source": [
    "#purchase count\n",
    "purchase_count = gender_count['Purchase ID'].count()\n",
    "# print(purchase_count)\n",
    "\n",
    "average_price = round((gender_count['Price'].mean()),2)\n",
    "# print(average_price)\n",
    "\n",
    "total_purchase_value = round((gender_count['Price'].sum()),2)\n",
    "# print(total_purchase_value)\n",
    "\n",
    "average_purchase_per_person = round((total_purchase_value/unique_gender_count),2)\n",
    "average_purchase_per_person \n",
    "\n",
    "purchase_analysis = pd.DataFrame({'Purchase Count': purchase_count,\n",
    "                                  'Avg Purchase Price': average_price,\n",
    "                                  'Total Purchase Value': total_purchase_value,\n",
    "                                  'Avg Total Purchase Per Person': average_purchase_per_person})\n",
    "print(purchase_analysis)"
   ]
  },
  {
   "cell_type": "markdown",
   "metadata": {},
   "source": [
    "## Age Demographics"
   ]
  },
  {
   "cell_type": "markdown",
   "metadata": {},
   "source": [
    "* Establish bins for ages\n",
    "\n",
    "\n",
    "* Categorize the existing players using the age bins. Hint: use pd.cut()\n",
    "\n",
    "\n",
    "* Calculate the numbers and percentages by age group\n",
    "\n",
    "\n",
    "* Create a summary data frame to hold the results\n",
    "\n",
    "\n",
    "* Optional: round the percentage column to two decimal points\n",
    "\n",
    "\n",
    "* Display Age Demographics Table\n"
   ]
  },
  {
   "cell_type": "code",
   "execution_count": 53,
   "metadata": {},
   "outputs": [
    {
     "name": "stdout",
     "output_type": "stream",
     "text": [
      "           Total Count  Percentage of Players\n",
      "Age Group                                    \n",
      "<10                 17                   2.95\n",
      "10-14               22                   3.82\n",
      "15-19              107                  18.58\n",
      "20-24              258                  44.79\n",
      "25-29               77                  13.37\n",
      "30-34               52                   9.03\n",
      "35-39               31                   5.38\n",
      "40+                 12                   2.08\n"
     ]
    }
   ],
   "source": [
    "#bins for ages\n",
    "age_bins = [0,9,14,19,24,29,34,39,999]\n",
    "age_group = ['<10','10-14','15-19','20-24','25-29','30-34','35-39','40+']\n",
    "\n",
    "#categorize into different age bin\n",
    "purchase_data['Age Group'] = pd.cut(purchase_data['Age'], age_bins, labels = age_group)\n",
    "purchase_data.head()\n",
    "\n",
    "#Age demo total & percentage\n",
    "group_by_age = purchase_data.groupby('Age Group')\n",
    "age_total_count = group_by_age['SN'].nunique()\n",
    "age_total_count\n",
    "\n",
    "age_percentage = round((age_total_count/total_player *100),2)\n",
    "age_percentage\n",
    "\n",
    "age_demo_table = pd.DataFrame({'Total Count': age_total_count,\n",
    "                                  'Percentage of Players': age_percentage})\n",
    "                                \n",
    "print(age_demo_table)"
   ]
  },
  {
   "cell_type": "markdown",
   "metadata": {},
   "source": [
    "## Purchasing Analysis (Age)"
   ]
  },
  {
   "cell_type": "markdown",
   "metadata": {},
   "source": [
    "* Bin the purchase_data data frame by age\n",
    "\n",
    "\n",
    "* Run basic calculations to obtain purchase count, avg. purchase price, avg. purchase total per person etc. in the table below\n",
    "\n",
    "\n",
    "* Create a summary data frame to hold the results\n",
    "\n",
    "\n",
    "* Optional: give the displayed data cleaner formatting\n",
    "\n",
    "\n",
    "* Display the summary data frame"
   ]
  },
  {
   "cell_type": "code",
   "execution_count": 72,
   "metadata": {},
   "outputs": [
    {
     "name": "stdout",
     "output_type": "stream",
     "text": [
      "           Purchase Count  Avg Purchase Price  Total Purchase Value  \\\n",
      "Age Group                                                             \n",
      "<10                    23                3.35                 77.13   \n",
      "10-14                  28                2.96                 82.78   \n",
      "15-19                 136                3.04                412.89   \n",
      "20-24                 365                3.05               1114.06   \n",
      "25-29                 101                2.90                293.00   \n",
      "30-34                  73                2.93                214.00   \n",
      "35-39                  41                3.60                147.67   \n",
      "40+                    13                2.94                 38.24   \n",
      "\n",
      "           Avg Total Purchase Per Person  \n",
      "Age Group                                 \n",
      "<10                                 4.54  \n",
      "10-14                               3.76  \n",
      "15-19                               3.86  \n",
      "20-24                               4.32  \n",
      "25-29                               3.81  \n",
      "30-34                               4.12  \n",
      "35-39                               4.76  \n",
      "40+                                 3.19  \n"
     ]
    }
   ],
   "source": [
    "#purchase data into age bin\n",
    "purchase_data['Age Group'] = pd.cut(purchase_data['Age'], age_bins, labels = age_group)\n",
    "\n",
    "#By AGE\n",
    "#purchase count\n",
    "age_purchase_count = group_by_age['Purchase ID'].count()\n",
    "#print(age_purchase_count)\n",
    "\n",
    "age_average_price = round((group_by_age['Price'].mean()),2)\n",
    "#print(age_average_price)\n",
    "\n",
    "age_total_purchase_value = round((group_by_age['Price'].sum()),2)\n",
    "# print(age_total_purchase_value)\n",
    "\n",
    "age_average_purchase_per_person = round((age_total_purchase_value/age_total_count),2)\n",
    "#print(age_average_purchase_per_person)\n",
    "\n",
    "age_purchase_analysis = pd.DataFrame({'Purchase Count': age_purchase_count,\n",
    "                                  'Avg Purchase Price': age_average_price,\n",
    "                                  'Total Purchase Value': age_total_purchase_value,\n",
    "                                  'Avg Total Purchase Per Person': age_average_purchase_per_person})\n",
    "\n",
    "print(age_purchase_analysis)"
   ]
  },
  {
   "cell_type": "markdown",
   "metadata": {},
   "source": [
    "## Top Spenders"
   ]
  },
  {
   "cell_type": "markdown",
   "metadata": {},
   "source": [
    "* Run basic calculations to obtain the results in the table below\n",
    "\n",
    "\n",
    "* Create a summary data frame to hold the results\n",
    "\n",
    "\n",
    "* Sort the total purchase value column in descending order\n",
    "\n",
    "\n",
    "* Optional: give the displayed data cleaner formatting\n",
    "\n",
    "\n",
    "* Display a preview of the summary data frame\n",
    "\n"
   ]
  },
  {
   "cell_type": "code",
   "execution_count": 99,
   "metadata": {},
   "outputs": [
    {
     "name": "stdout",
     "output_type": "stream",
     "text": [
      "             Purchase Count  Average Purchase Price  Total Purchase Value\n",
      "SN                                                                       \n",
      "Lisosia93                 5                    3.79                 18.96\n",
      "Idastidru52               4                    3.86                 15.45\n",
      "Chamjask73                3                    4.61                 13.83\n",
      "Iral74                    4                    3.40                 13.62\n",
      "Iskadarya95               3                    4.37                 13.10\n"
     ]
    }
   ],
   "source": [
    "top_spender = purchase_data.groupby('SN')\n",
    "top_spender.head()\n",
    "\n",
    "purchase_count = top_spender['Purchase ID'].count()\n",
    "purchase_count\n",
    "\n",
    "average_purchase_price = round((top_spender['Price'].mean()),2)\n",
    "average_purchase_price\n",
    "\n",
    "total_purchase_value = top_spender['Price'].sum()\n",
    "total_purchase_value\n",
    "\n",
    "top_spender_table = pd.DataFrame({\"Purchase Count\": purchase_count,\n",
    "                                  \"Average Purchase Price\": average_purchase_price,\n",
    "                                  \"Total Purchase Value\": total_purchase_value\n",
    "                                 })\n",
    "top_spender_table = top_spender_table.sort_values(['Total Purchase Value' ], ascending =False).head()\n",
    "print(top_spender_table)\n",
    "\n"
   ]
  },
  {
   "cell_type": "markdown",
   "metadata": {},
   "source": [
    "## Most Popular Items"
   ]
  },
  {
   "cell_type": "markdown",
   "metadata": {},
   "source": [
    "* Retrieve the Item ID, Item Name, and Item Price columns\n",
    "\n",
    "\n",
    "* Group by Item ID and Item Name. Perform calculations to obtain purchase count, item price, and total purchase value\n",
    "\n",
    "\n",
    "* Create a summary data frame to hold the results\n",
    "\n",
    "\n",
    "* Sort the purchase count column in descending order\n",
    "\n",
    "\n",
    "* Optional: give the displayed data cleaner formatting\n",
    "\n",
    "\n",
    "* Display a preview of the summary data frame\n",
    "\n"
   ]
  },
  {
   "cell_type": "code",
   "execution_count": 126,
   "metadata": {},
   "outputs": [
    {
     "name": "stdout",
     "output_type": "stream",
     "text": [
      "                                                      Purchase Count  \\\n",
      "Item ID Item Name                                                      \n",
      "178     Oathbreaker, Last Hope of the Breaking Storm              12   \n",
      "145     Fiery Glass Crusader                                       9   \n",
      "108     Extraction, Quickblade Of Trembling Hands                  9   \n",
      "82      Nirvana                                                    9   \n",
      "19      Pursuit, Cudgel of Necromancy                              8   \n",
      "\n",
      "                                                      Item Price  \\\n",
      "Item ID Item Name                                                  \n",
      "178     Oathbreaker, Last Hope of the Breaking Storm        4.23   \n",
      "145     Fiery Glass Crusader                                4.58   \n",
      "108     Extraction, Quickblade Of Trembling Hands           3.53   \n",
      "82      Nirvana                                             4.90   \n",
      "19      Pursuit, Cudgel of Necromancy                       1.02   \n",
      "\n",
      "                                                      Total Purchase Value  \n",
      "Item ID Item Name                                                           \n",
      "178     Oathbreaker, Last Hope of the Breaking Storm                 50.76  \n",
      "145     Fiery Glass Crusader                                         41.22  \n",
      "108     Extraction, Quickblade Of Trembling Hands                    31.77  \n",
      "82      Nirvana                                                      44.10  \n",
      "19      Pursuit, Cudgel of Necromancy                                 8.16  \n"
     ]
    }
   ],
   "source": [
    "items = purchase_data[['Item ID','Item Name', 'Price']]\n",
    "items\n",
    "\n",
    "popular_items = items.groupby(['Item ID', 'Item Name'])\n",
    "popular_items.head()\n",
    "\n",
    "popular_purchase_count = popular_items['Item ID'].count()\n",
    "popular_purchase_count\n",
    "\n",
    "popular_total_purchase_value = popular_items['Price'].sum()\n",
    "popular_total_purchase_value\n",
    "\n",
    "popular_item_price = round((popular_total_purchase_value/popular_purchase_count),2)\n",
    "popular_item_price\n",
    "\n",
    "popular_item_table = pd.DataFrame({\"Purchase Count\": popular_purchase_count,\n",
    "                                  \"Item Price\": popular_item_price,\n",
    "                                   \"Total Purchase Value\": popular_total_purchase_value\n",
    "                                  })\n",
    "popular_item_table = popular_item_table.sort_values(['Purchase Count'], ascending =False).head()\n",
    "print(popular_item_table)"
   ]
  },
  {
   "cell_type": "markdown",
   "metadata": {},
   "source": [
    "## Most Profitable Items"
   ]
  },
  {
   "cell_type": "markdown",
   "metadata": {},
   "source": [
    "* Sort the above table by total purchase value in descending order\n",
    "\n",
    "\n",
    "* Optional: give the displayed data cleaner formatting\n",
    "\n",
    "\n",
    "* Display a preview of the data frame\n",
    "\n"
   ]
  },
  {
   "cell_type": "code",
   "execution_count": 127,
   "metadata": {},
   "outputs": [
    {
     "name": "stdout",
     "output_type": "stream",
     "text": [
      "                                                      Purchase Count  \\\n",
      "Item ID Item Name                                                      \n",
      "178     Oathbreaker, Last Hope of the Breaking Storm              12   \n",
      "82      Nirvana                                                    9   \n",
      "145     Fiery Glass Crusader                                       9   \n",
      "92      Final Critic                                               8   \n",
      "103     Singed Scalpel                                             8   \n",
      "\n",
      "                                                      Item Price  \\\n",
      "Item ID Item Name                                                  \n",
      "178     Oathbreaker, Last Hope of the Breaking Storm        4.23   \n",
      "82      Nirvana                                             4.90   \n",
      "145     Fiery Glass Crusader                                4.58   \n",
      "92      Final Critic                                        4.88   \n",
      "103     Singed Scalpel                                      4.35   \n",
      "\n",
      "                                                      Total Purchase Value  \n",
      "Item ID Item Name                                                           \n",
      "178     Oathbreaker, Last Hope of the Breaking Storm                 50.76  \n",
      "82      Nirvana                                                      44.10  \n",
      "145     Fiery Glass Crusader                                         41.22  \n",
      "92      Final Critic                                                 39.04  \n",
      "103     Singed Scalpel                                               34.80  \n"
     ]
    }
   ],
   "source": [
    "\n",
    "profitable_item_table = pd.DataFrame({\"Purchase Count\": popular_purchase_count,\n",
    "                                  \"Item Price\": popular_item_price,\n",
    "                                   \"Total Purchase Value\": popular_total_purchase_value\n",
    "                                  })\n",
    "profitable_item_table = profitable_item_table.sort_values(['Total Purchase Value'], ascending =False).head()\n",
    "print(profitable_item_table)"
   ]
  }
 ],
 "metadata": {
  "anaconda-cloud": {},
  "kernel_info": {
   "name": "python3"
  },
  "kernelspec": {
   "display_name": "Python 3",
   "language": "python",
   "name": "python3"
  },
  "language_info": {
   "codemirror_mode": {
    "name": "ipython",
    "version": 3
   },
   "file_extension": ".py",
   "mimetype": "text/x-python",
   "name": "python",
   "nbconvert_exporter": "python",
   "pygments_lexer": "ipython3",
   "version": "3.7.3"
  },
  "nteract": {
   "version": "0.2.0"
  }
 },
 "nbformat": 4,
 "nbformat_minor": 2
}
